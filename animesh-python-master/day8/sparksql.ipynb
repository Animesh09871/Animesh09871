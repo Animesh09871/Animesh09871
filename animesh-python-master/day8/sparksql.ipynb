{
 "cells": [
  {
   "cell_type": "code",
   "execution_count": 4,
   "id": "initial_id",
   "metadata": {
    "collapsed": true,
    "ExecuteTime": {
     "end_time": "2023-09-22T09:22:40.867502663Z",
     "start_time": "2023-09-22T09:22:35.365901558Z"
    }
   },
   "outputs": [
    {
     "name": "stdout",
     "output_type": "stream",
     "text": [
      "          company   body-style  length engine  mileage sunroof\n",
      "0     alfa-romero  convertible   168.8   dohc       21      No\n",
      "1     alfa-romero    hatchback   171.2   dohc       19      No\n",
      "2            audi        sedan   176.6    ohc       24     Yes\n",
      "3            audi        sedan   176.6    NaN       18     Yes\n",
      "4            audi        sedan   177.3    ohc       19     Yes\n",
      "5            audi        wagon   192.7    ohc       19     Yes\n",
      "6             bmw        sedan   176.8    ohc       23     Yes\n",
      "7             bmw        sedan   176.8    ohc       23     Yes\n",
      "8             bmw        sedan   176.8    ohc       21     Yes\n",
      "9             bmw        sedan   189.0    ohc       16     Yes\n",
      "10            bmw        sedan   193.8    ohc       16     Yes\n",
      "11            bmw        sedan   197.0    ohc       15     Yes\n",
      "12      chevrolet    hatchback   141.1    ohc       47      No\n",
      "13      chevrolet    hatchback   155.9    ohc       38      No\n",
      "14      chevrolet        sedan   158.8    ohc       38      No\n",
      "15          dodge    hatchback   157.3    ohc       31      No\n",
      "16          dodge    hatchback   157.3    ohc       31      No\n",
      "17          honda        wagon   157.1    ohc       30      No\n",
      "18          honda        sedan   175.4    ohc       24      No\n",
      "19          honda        sedan   169.1    ohc       25      No\n",
      "20          isuzu        sedan   170.7    ohc       24      No\n",
      "21          isuzu        sedan   155.9    ohc       38      No\n",
      "22          isuzu        sedan   155.9    ohc       38      No\n",
      "23         jaguar        sedan   199.6   dohc       15     Yes\n",
      "24         jaguar        sedan   199.6   dohc       15     Yes\n",
      "25         jaguar        sedan   191.7   ohcv       13     Yes\n",
      "26          mazda    hatchback   159.1    ohc       30     Yes\n",
      "27          mazda    hatchback   159.1    ohc       31     Yes\n",
      "28          mazda    hatchback   159.1    ohc       31     Yes\n",
      "29          mazda    hatchback   169.0  rotor       17     Yes\n",
      "30          mazda        sedan   175.0    ohc       31     Yes\n",
      "31  mercedes-benz        sedan   190.9    ohc       22     Yes\n",
      "32  mercedes-benz        wagon   190.9    ohc       22     Yes\n",
      "33  mercedes-benz        sedan   208.1   ohcv       14     Yes\n",
      "34  mercedes-benz      hardtop   199.2   ohcv       14     Yes\n",
      "35     mitsubishi    hatchback   157.3    ohc       37     Yes\n",
      "36     mitsubishi    hatchback   157.3    ohc       31     Yes\n",
      "37     mitsubishi        sedan   172.4    ohc       25     Yes\n",
      "38     mitsubishi        sedan   172.4    ohc       25     Yes\n",
      "39         nissan        sedan   165.3    ohc       45      No\n",
      "40         nissan        sedan   165.3    ohc       31      No\n",
      "41         nissan        sedan   165.3    ohc       31      No\n",
      "42         nissan        wagon   170.2    ohc       31      No\n",
      "43         nissan        sedan   184.6   ohcv       19      No\n",
      "44        porsche      hardtop   168.9   ohcf       17     Yes\n",
      "45        porsche  convertible   168.9   ohcf       17     Yes\n",
      "46        porsche    hatchback   175.7  dohcv       17     Yes\n",
      "47         toyota    hatchback   158.7    ohc       35      No\n",
      "48         toyota    hatchback   158.7    ohc       31      No\n",
      "49         toyota    hatchback   158.7    ohc       31      No\n",
      "50         toyota        wagon   169.7    ohc       31      No\n",
      "51         toyota        wagon   169.7    ohc       27      No\n",
      "52         toyota        wagon   169.7    ohc       27      No\n",
      "53         toyota        wagon   187.8   dohc       19      No\n",
      "54     volkswagen        sedan   171.7    ohc       37     Yes\n",
      "55     volkswagen        sedan   171.7    ohc       27     Yes\n",
      "56     volkswagen        sedan   171.7    ohc       37     Yes\n",
      "57     volkswagen        sedan   171.7    ohc       26     Yes\n",
      "58          volvo        sedan   188.8    ohc       23      No\n",
      "59          volvo        wagon   188.8    ohc       23      No\n"
     ]
    }
   ],
   "source": [
    "import pandas as pd\n",
    "import pyspark\n",
    "p1=pd.read_csv('Automobile.csv')\n",
    "print(p1)"
   ]
  },
  {
   "cell_type": "code",
   "execution_count": 5,
   "outputs": [
    {
     "name": "stderr",
     "output_type": "stream",
     "text": [
      "Setting default log level to \"WARN\".\n",
      "To adjust logging level use sc.setLogLevel(newLevel). For SparkR, use setLogLevel(newLevel).\n",
      "23/09/22 09:22:58 WARN NativeCodeLoader: Unable to load native-hadoop library for your platform... using builtin-java classes where applicable\n"
     ]
    }
   ],
   "source": [
    "from pyspark.sql import SparkSession\n",
    "spark=SparkSession.builder.appName('zenlite') .getOrCreate()"
   ],
   "metadata": {
    "collapsed": false,
    "ExecuteTime": {
     "end_time": "2023-09-22T09:23:06.699722845Z",
     "start_time": "2023-09-22T09:22:40.770686306Z"
    }
   },
   "id": "8d127d138fcf8873"
  },
  {
   "cell_type": "code",
   "execution_count": 6,
   "outputs": [
    {
     "data": {
      "text/plain": "<pyspark.sql.session.SparkSession at 0x7ff1057ce920>",
      "text/html": "\n            <div>\n                <p><b>SparkSession - in-memory</b></p>\n                \n        <div>\n            <p><b>SparkContext</b></p>\n\n            <p><a href=\"http://ip-172-31-10-89.ap-south-1.compute.internal:4040\">Spark UI</a></p>\n\n            <dl>\n              <dt>Version</dt>\n                <dd><code>v3.4.1</code></dd>\n              <dt>Master</dt>\n                <dd><code>local[*]</code></dd>\n              <dt>AppName</dt>\n                <dd><code>zenlite</code></dd>\n            </dl>\n        </div>\n        \n            </div>\n        "
     },
     "execution_count": 6,
     "metadata": {},
     "output_type": "execute_result"
    }
   ],
   "source": [
    "spark"
   ],
   "metadata": {
    "collapsed": false,
    "ExecuteTime": {
     "end_time": "2023-09-22T09:23:11.558364061Z",
     "start_time": "2023-09-22T09:23:06.727584935Z"
    }
   },
   "id": "34a4125ffe39be64"
  },
  {
   "cell_type": "code",
   "execution_count": 40,
   "outputs": [],
   "source": [
    "f1=(spark.read.option(\"header\",\"true\").csv('HR_Hiring_details_transaction.csv'))\n"
   ],
   "metadata": {
    "collapsed": false,
    "ExecuteTime": {
     "end_time": "2023-09-22T11:02:47.421458121Z",
     "start_time": "2023-09-22T11:02:46.231164499Z"
    }
   },
   "id": "162312b17d2bb2e6"
  },
  {
   "cell_type": "code",
   "execution_count": 41,
   "outputs": [
    {
     "name": "stdout",
     "output_type": "stream",
     "text": [
      "+---+-------------+------------+------------------------+-------------+------------+----------------------------+---------------------------+----------------------+-------------+-------------------------+------+-----------------+----------+-----------+-----------+---+------+-----------+\n",
      "|Sno|Candidate_Ref|DOJ_Extended|Duration_to_accept_offer|Notice_Period|Offered_Band|ected_in_CTCPercent_hike_exp|Percent_hike_offered_in_CTC|Percent_difference_CTC|Joining_Bonus|Candidate_relocate_actual|Gender| Candidate_Source|Rex_in_Yrs|Location_ID|Postal_Code|Age|LOB_Id|Domicile_Id|\n",
      "+---+-------------+------------+------------------------+-------------+------------+----------------------------+---------------------------+----------------------+-------------+-------------------------+------+-----------------+----------+-----------+-----------+---+------+-----------+\n",
      "|  1|      2110407|         Yes|                      14|           30|          E2|                      -20.79|                      13.16|                 42.86|           No|                       No|Female|           Agency|         7|       L001|     201301| 34|     1|         D6|\n",
      "|  2|      2112635|          No|                      18|           30|          E2|                          50|                        320|                   180|           No|                       No|  Male|Employee Referral|         8|       L002|     600020| 34|     2|         D9|\n",
      "|  3|      2112838|          No|                       3|           45|          E2|                       42.84|                      42.84|                     0|           No|                       No|  Male|           Agency|         4|       L001|     201301| 27|     2|        D10|\n",
      "|  4|      2115021|          No|                      26|           30|          E2|                       42.84|                      42.84|                     0|           No|                       No|  Male|Employee Referral|         4|       L001|     201301| 34|     2|         D3|\n",
      "|  5|      2115125|         Yes|                       1|          120|          E2|                       42.59|                      42.59|                     0|           No|                      Yes|  Male|Employee Referral|         6|       L001|     201301| 34|     2|        D21|\n",
      "|  6|      2117167|         Yes|                      17|           30|          E1|                       42.83|                      42.83|                     0|           No|                       No|  Male|Employee Referral|         2|       L001|     201301| 34|     2|        D24|\n",
      "|  7|      2119124|         Yes|                      37|           30|          E2|                       31.58|                      31.58|                     0|           No|                       No|  Male|Employee Referral|         7|       L001|     201301| 32|     2|        D23|\n",
      "|  9|      2127572|         Yes|                      16|            0|          E1|                         -20|                        -20|                     0|           No|                       No|Female|           Direct|         8|       L001|     201301| 34|     3|         D6|\n",
      "| 11|      2138169|          No|                       1|           30|          E1|                      -22.22|                     -22.22|                     0|           No|                       No|Female|Employee Referral|         3|       L003|     122107| 26|     4|         D5|\n",
      "| 12|      2143362|          No|                       6|           30|          E1|                         240|                        220|                 -5.88|           No|                       No|  Male|Employee Referral|         3|       L002|     600020| 34|     5|        D23|\n",
      "| 13|      2151180|          No|                     120|           30|          E2|                        5.26|                     -60.53|                 -62.5|           No|                       No|  Male|Employee Referral|         3|       L001|     201301| 34|     2|         D6|\n",
      "| 14|      2154264|          No|                       3|            0|          E2|                       28.21|                      37.18|                     7|           No|                       No|  Male|Employee Referral|         7|       L002|     600020| 34|     2|         D3|\n",
      "| 15|      2156236|         Yes|                      14|           30|          E2|                          50|                      287.5|                158.33|           No|                       No|  Male|           Agency|         7|       L001|     201301| 29|     2|        D13|\n",
      "| 16|      2158703|          No|                      44|           75|          E2|                       45.45|                         60|                    10|           No|                       No|  Male|           Direct|         8|       L001|     201301| 34|     2|        D13|\n",
      "| 17|      2161257|          No|                       7|           30|          E3|                       53.85|                         50|                  -2.5|           No|                       No|  Male|Employee Referral|         5|       L001|     201301| 34|     2|         D9|\n",
      "| 18|      2162487|          No|                       1|           30|          E3|                      -27.31|                     -27.31|                     0|           No|                       No|  Male|           Direct|        18|       L004|     560034| 34|     6|        D13|\n",
      "| 19|      2166041|         Yes|                      98|           30|          E2|                          50|                     165.36|                 76.91|           No|                       No|  Male|           Agency|         8|       L001|     201301| 36|     2|         D4|\n",
      "| 20|      2172982|          No|                       1|            0|          E2|                          30|                         30|                     0|           No|                       No|  Male|           Direct|         6|       L001|     201301| 34|     2|        D13|\n",
      "| 21|      2173730|          No|                       1|           30|          E1|                      -13.42|                      42.86|                    65|           No|                       No|  Male|           Direct|         1|       L003|     122107| 34|     2|         D7|\n",
      "| 22|      2175237|          No|                       7|           30|          E1|                      221.43|                     164.29|                -17.78|           No|                       No|  Male|           Direct|         2|       L001|     201301| 34|     1|        D21|\n",
      "+---+-------------+------------+------------------------+-------------+------------+----------------------------+---------------------------+----------------------+-------------+-------------------------+------+-----------------+----------+-----------+-----------+---+------+-----------+\n"
     ]
    }
   ],
   "source": [
    "f1.show()\n"
   ],
   "metadata": {
    "collapsed": false,
    "ExecuteTime": {
     "end_time": "2023-09-22T11:02:55.083416393Z",
     "start_time": "2023-09-22T11:02:53.620176994Z"
    }
   },
   "id": "6210893213b6c8bb"
  },
  {
   "cell_type": "code",
   "execution_count": 42,
   "outputs": [],
   "source": [
    "f1.createOrReplaceTempView(\"f2\")"
   ],
   "metadata": {
    "collapsed": false,
    "ExecuteTime": {
     "end_time": "2023-09-22T11:03:01.775979618Z",
     "start_time": "2023-09-22T11:03:01.418958329Z"
    }
   },
   "id": "6726e7e42d944c35"
  },
  {
   "cell_type": "code",
   "execution_count": 43,
   "outputs": [
    {
     "name": "stdout",
     "output_type": "stream",
     "text": [
      "+---+-------------+------------+------------------------+-------------+------------+----------------------------+---------------------------+----------------------+-------------+-------------------------+------+-----------------+----------+-----------+-----------+---+------+-----------+\n",
      "|Sno|Candidate_Ref|DOJ_Extended|Duration_to_accept_offer|Notice_Period|Offered_Band|ected_in_CTCPercent_hike_exp|Percent_hike_offered_in_CTC|Percent_difference_CTC|Joining_Bonus|Candidate_relocate_actual|Gender| Candidate_Source|Rex_in_Yrs|Location_ID|Postal_Code|Age|LOB_Id|Domicile_Id|\n",
      "+---+-------------+------------+------------------------+-------------+------------+----------------------------+---------------------------+----------------------+-------------+-------------------------+------+-----------------+----------+-----------+-----------+---+------+-----------+\n",
      "|  1|      2110407|         Yes|                      14|           30|          E2|                      -20.79|                      13.16|                 42.86|           No|                       No|Female|           Agency|         7|       L001|     201301| 34|     1|         D6|\n",
      "|  2|      2112635|          No|                      18|           30|          E2|                          50|                        320|                   180|           No|                       No|  Male|Employee Referral|         8|       L002|     600020| 34|     2|         D9|\n",
      "|  3|      2112838|          No|                       3|           45|          E2|                       42.84|                      42.84|                     0|           No|                       No|  Male|           Agency|         4|       L001|     201301| 27|     2|        D10|\n",
      "|  4|      2115021|          No|                      26|           30|          E2|                       42.84|                      42.84|                     0|           No|                       No|  Male|Employee Referral|         4|       L001|     201301| 34|     2|         D3|\n",
      "|  5|      2115125|         Yes|                       1|          120|          E2|                       42.59|                      42.59|                     0|           No|                      Yes|  Male|Employee Referral|         6|       L001|     201301| 34|     2|        D21|\n",
      "|  6|      2117167|         Yes|                      17|           30|          E1|                       42.83|                      42.83|                     0|           No|                       No|  Male|Employee Referral|         2|       L001|     201301| 34|     2|        D24|\n",
      "|  7|      2119124|         Yes|                      37|           30|          E2|                       31.58|                      31.58|                     0|           No|                       No|  Male|Employee Referral|         7|       L001|     201301| 32|     2|        D23|\n",
      "|  9|      2127572|         Yes|                      16|            0|          E1|                         -20|                        -20|                     0|           No|                       No|Female|           Direct|         8|       L001|     201301| 34|     3|         D6|\n",
      "| 11|      2138169|          No|                       1|           30|          E1|                      -22.22|                     -22.22|                     0|           No|                       No|Female|Employee Referral|         3|       L003|     122107| 26|     4|         D5|\n",
      "| 12|      2143362|          No|                       6|           30|          E1|                         240|                        220|                 -5.88|           No|                       No|  Male|Employee Referral|         3|       L002|     600020| 34|     5|        D23|\n",
      "| 13|      2151180|          No|                     120|           30|          E2|                        5.26|                     -60.53|                 -62.5|           No|                       No|  Male|Employee Referral|         3|       L001|     201301| 34|     2|         D6|\n",
      "| 14|      2154264|          No|                       3|            0|          E2|                       28.21|                      37.18|                     7|           No|                       No|  Male|Employee Referral|         7|       L002|     600020| 34|     2|         D3|\n",
      "| 15|      2156236|         Yes|                      14|           30|          E2|                          50|                      287.5|                158.33|           No|                       No|  Male|           Agency|         7|       L001|     201301| 29|     2|        D13|\n",
      "| 16|      2158703|          No|                      44|           75|          E2|                       45.45|                         60|                    10|           No|                       No|  Male|           Direct|         8|       L001|     201301| 34|     2|        D13|\n",
      "| 17|      2161257|          No|                       7|           30|          E3|                       53.85|                         50|                  -2.5|           No|                       No|  Male|Employee Referral|         5|       L001|     201301| 34|     2|         D9|\n",
      "| 18|      2162487|          No|                       1|           30|          E3|                      -27.31|                     -27.31|                     0|           No|                       No|  Male|           Direct|        18|       L004|     560034| 34|     6|        D13|\n",
      "| 19|      2166041|         Yes|                      98|           30|          E2|                          50|                     165.36|                 76.91|           No|                       No|  Male|           Agency|         8|       L001|     201301| 36|     2|         D4|\n",
      "| 20|      2172982|          No|                       1|            0|          E2|                          30|                         30|                     0|           No|                       No|  Male|           Direct|         6|       L001|     201301| 34|     2|        D13|\n",
      "| 21|      2173730|          No|                       1|           30|          E1|                      -13.42|                      42.86|                    65|           No|                       No|  Male|           Direct|         1|       L003|     122107| 34|     2|         D7|\n",
      "| 22|      2175237|          No|                       7|           30|          E1|                      221.43|                     164.29|                -17.78|           No|                       No|  Male|           Direct|         2|       L001|     201301| 34|     1|        D21|\n",
      "+---+-------------+------------+------------------------+-------------+------------+----------------------------+---------------------------+----------------------+-------------+-------------------------+------+-----------------+----------+-----------+-----------+---+------+-----------+\n"
     ]
    }
   ],
   "source": [
    "spark.sql(\"select * from f2\").show()"
   ],
   "metadata": {
    "collapsed": false,
    "ExecuteTime": {
     "end_time": "2023-09-22T11:03:07.080650401Z",
     "start_time": "2023-09-22T11:03:06.009758225Z"
    }
   },
   "id": "ec941c32e6b63d77"
  },
  {
   "cell_type": "code",
   "execution_count": 44,
   "outputs": [
    {
     "name": "stdout",
     "output_type": "stream",
     "text": [
      "+---+\n",
      "|  1|\n",
      "+---+\n",
      "|  1|\n",
      "|  1|\n",
      "|  1|\n",
      "|  1|\n",
      "|  1|\n",
      "|  1|\n",
      "|  1|\n",
      "|  1|\n",
      "|  1|\n",
      "|  1|\n",
      "|  1|\n",
      "|  1|\n",
      "|  1|\n",
      "|  1|\n",
      "|  1|\n",
      "|  1|\n",
      "|  1|\n",
      "|  1|\n",
      "|  1|\n",
      "|  1|\n",
      "+---+\n"
     ]
    }
   ],
   "source": [
    "spark.sql(\"select 1 from f2\").show()\n"
   ],
   "metadata": {
    "collapsed": false,
    "ExecuteTime": {
     "end_time": "2023-09-22T11:03:13.174229565Z",
     "start_time": "2023-09-22T11:03:12.752159538Z"
    }
   },
   "id": "4d25b099bdb48b81"
  },
  {
   "cell_type": "code",
   "execution_count": 45,
   "outputs": [
    {
     "name": "stdout",
     "output_type": "stream",
     "text": [
      "+-----------------------------------+\n",
      "|count(ected_in_CTCPercent_hike_exp)|\n",
      "+-----------------------------------+\n",
      "|                               8995|\n",
      "+-----------------------------------+\n"
     ]
    }
   ],
   "source": [
    "spark.sql(\"select count(ected_in_CTCPercent_hike_exp) from f2\").show()"
   ],
   "metadata": {
    "collapsed": false,
    "ExecuteTime": {
     "end_time": "2023-09-22T11:03:21.851099030Z",
     "start_time": "2023-09-22T11:03:20.818594403Z"
    }
   },
   "id": "3eef3b07431bc517"
  },
  {
   "cell_type": "code",
   "execution_count": 46,
   "outputs": [
    {
     "name": "stdout",
     "output_type": "stream",
     "text": [
      "+---------------------------+----------------------+---------------------------+\n",
      "|Percent_hike_offered_in_CTC|Percent_difference_CTC|Percent_hike_offered_in_CTC|\n",
      "+---------------------------+----------------------+---------------------------+\n",
      "|                         60|                    10|                         60|\n",
      "|                         50|                  -2.5|                         50|\n",
      "|                         57|                     4|                         57|\n",
      "|                      89.58|                     0|                      89.58|\n",
      "|                      74.58|                  4.17|                      74.58|\n",
      "|                      90.48|                -33.33|                      90.48|\n",
      "|                       9.14|                 22.47|                       9.14|\n",
      "|                      94.44|                  9.38|                      94.44|\n",
      "|                       62.5|                    30|                       62.5|\n",
      "|                         75|                     0|                         75|\n",
      "|                         50|                     0|                         50|\n",
      "|                      60.99|                -10.34|                      60.99|\n",
      "|                       7.37|                     0|                       7.37|\n",
      "|                       62.5|                     0|                       62.5|\n",
      "|                         60|                 23.08|                         60|\n",
      "|                      66.67|                    10|                      66.67|\n",
      "|                      70.45|                  12.5|                      70.45|\n",
      "|                         75|                   -25|                         75|\n",
      "|                      51.04|                  3.57|                      51.04|\n",
      "|                         80|                 38.46|                         80|\n",
      "+---------------------------+----------------------+---------------------------+\n"
     ]
    }
   ],
   "source": [
    "spark.sql(\"select Percent_hike_offered_in_CTC,Percent_difference_CTC,Percent_hike_offered_in_CTC from f2 where Percent_hike_offered_in_CTC>='50'\").show()"
   ],
   "metadata": {
    "collapsed": false,
    "ExecuteTime": {
     "end_time": "2023-09-22T11:03:30.301633532Z",
     "start_time": "2023-09-22T11:03:29.659060620Z"
    }
   },
   "id": "5590fd37f096fd84"
  },
  {
   "cell_type": "code",
   "execution_count": 47,
   "outputs": [
    {
     "name": "stdout",
     "output_type": "stream",
     "text": [
      "+---+-------------+------------+------------------------+-------------+------------+----------------------------+---------------------------+----------------------+-------------+-------------------------+------+-----------------+----------+-----------+-----------+---+------+-----------+\n",
      "|Sno|Candidate_Ref|DOJ_Extended|Duration_to_accept_offer|Notice_Period|Offered_Band|ected_in_CTCPercent_hike_exp|Percent_hike_offered_in_CTC|Percent_difference_CTC|Joining_Bonus|Candidate_relocate_actual|Gender| Candidate_Source|Rex_in_Yrs|Location_ID|Postal_Code|Age|LOB_Id|Domicile_Id|\n",
      "+---+-------------+------------+------------------------+-------------+------------+----------------------------+---------------------------+----------------------+-------------+-------------------------+------+-----------------+----------+-----------+-----------+---+------+-----------+\n",
      "|  1|      2110407|         Yes|                      14|           30|          E2|                      -20.79|                      13.16|                 42.86|           No|                       No|Female|           Agency|         7|       L001|     201301| 34|     1|         D6|\n",
      "|  2|      2112635|          No|                      18|           30|          E2|                          50|                        320|                   180|           No|                       No|  Male|Employee Referral|         8|       L002|     600020| 34|     2|         D9|\n",
      "|  3|      2112838|          No|                       3|           45|          E2|                       42.84|                      42.84|                     0|           No|                       No|  Male|           Agency|         4|       L001|     201301| 27|     2|        D10|\n",
      "|  4|      2115021|          No|                      26|           30|          E2|                       42.84|                      42.84|                     0|           No|                       No|  Male|Employee Referral|         4|       L001|     201301| 34|     2|         D3|\n",
      "|  5|      2115125|         Yes|                       1|          120|          E2|                       42.59|                      42.59|                     0|           No|                      Yes|  Male|Employee Referral|         6|       L001|     201301| 34|     2|        D21|\n",
      "|  6|      2117167|         Yes|                      17|           30|          E1|                       42.83|                      42.83|                     0|           No|                       No|  Male|Employee Referral|         2|       L001|     201301| 34|     2|        D24|\n",
      "|  7|      2119124|         Yes|                      37|           30|          E2|                       31.58|                      31.58|                     0|           No|                       No|  Male|Employee Referral|         7|       L001|     201301| 32|     2|        D23|\n",
      "|  9|      2127572|         Yes|                      16|            0|          E1|                         -20|                        -20|                     0|           No|                       No|Female|           Direct|         8|       L001|     201301| 34|     3|         D6|\n",
      "| 11|      2138169|          No|                       1|           30|          E1|                      -22.22|                     -22.22|                     0|           No|                       No|Female|Employee Referral|         3|       L003|     122107| 26|     4|         D5|\n",
      "| 12|      2143362|          No|                       6|           30|          E1|                         240|                        220|                 -5.88|           No|                       No|  Male|Employee Referral|         3|       L002|     600020| 34|     5|        D23|\n",
      "| 13|      2151180|          No|                     120|           30|          E2|                        5.26|                     -60.53|                 -62.5|           No|                       No|  Male|Employee Referral|         3|       L001|     201301| 34|     2|         D6|\n",
      "| 14|      2154264|          No|                       3|            0|          E2|                       28.21|                      37.18|                     7|           No|                       No|  Male|Employee Referral|         7|       L002|     600020| 34|     2|         D3|\n",
      "| 15|      2156236|         Yes|                      14|           30|          E2|                          50|                      287.5|                158.33|           No|                       No|  Male|           Agency|         7|       L001|     201301| 29|     2|        D13|\n",
      "| 16|      2158703|          No|                      44|           75|          E2|                       45.45|                         60|                    10|           No|                       No|  Male|           Direct|         8|       L001|     201301| 34|     2|        D13|\n",
      "| 17|      2161257|          No|                       7|           30|          E3|                       53.85|                         50|                  -2.5|           No|                       No|  Male|Employee Referral|         5|       L001|     201301| 34|     2|         D9|\n",
      "| 18|      2162487|          No|                       1|           30|          E3|                      -27.31|                     -27.31|                     0|           No|                       No|  Male|           Direct|        18|       L004|     560034| 34|     6|        D13|\n",
      "| 19|      2166041|         Yes|                      98|           30|          E2|                          50|                     165.36|                 76.91|           No|                       No|  Male|           Agency|         8|       L001|     201301| 36|     2|         D4|\n",
      "| 20|      2172982|          No|                       1|            0|          E2|                          30|                         30|                     0|           No|                       No|  Male|           Direct|         6|       L001|     201301| 34|     2|        D13|\n",
      "| 21|      2173730|          No|                       1|           30|          E1|                      -13.42|                      42.86|                    65|           No|                       No|  Male|           Direct|         1|       L003|     122107| 34|     2|         D7|\n",
      "| 22|      2175237|          No|                       7|           30|          E1|                      221.43|                     164.29|                -17.78|           No|                       No|  Male|           Direct|         2|       L001|     201301| 34|     1|        D21|\n",
      "+---+-------------+------------+------------------------+-------------+------------+----------------------------+---------------------------+----------------------+-------------+-------------------------+------+-----------------+----------+-----------+-----------+---+------+-----------+\n"
     ]
    }
   ],
   "source": [
    "spark.sql( \"select * from f2\") .show()"
   ],
   "metadata": {
    "collapsed": false,
    "ExecuteTime": {
     "end_time": "2023-09-22T11:03:46.073540294Z",
     "start_time": "2023-09-22T11:03:45.271671893Z"
    }
   },
   "id": "3b7e2be5dc9e94e2"
  },
  {
   "cell_type": "code",
   "execution_count": 15,
   "outputs": [
    {
     "name": "stdout",
     "output_type": "stream",
     "text": [
      "+------+\n",
      "|gender|\n",
      "+------+\n",
      "|  Male|\n",
      "|  Male|\n",
      "|  Male|\n",
      "|  Male|\n",
      "|  Male|\n",
      "|  Male|\n",
      "|  Male|\n",
      "|  Male|\n",
      "|  Male|\n",
      "|  Male|\n",
      "|  Male|\n",
      "|  Male|\n",
      "|  Male|\n",
      "|  Male|\n",
      "|  Male|\n",
      "|  Male|\n",
      "|  Male|\n",
      "|  Male|\n",
      "|  Male|\n",
      "|  Male|\n",
      "+------+\n"
     ]
    }
   ],
   "source": [
    "spark.sql(\"select gender from f2 where gender='Male'\").show()"
   ],
   "metadata": {
    "collapsed": false,
    "ExecuteTime": {
     "end_time": "2023-09-22T09:23:35.897574788Z",
     "start_time": "2023-09-22T09:23:34.757598836Z"
    }
   },
   "id": "28ea200ea5afbb0b"
  },
  {
   "cell_type": "code",
   "execution_count": 48,
   "outputs": [
    {
     "name": "stdout",
     "output_type": "stream",
     "text": [
      "+------+---------------------------+----------------------+---------------------------+\n",
      "|gender|Percent_hike_offered_in_CTC|Percent_difference_CTC|Percent_hike_offered_in_CTC|\n",
      "+------+---------------------------+----------------------+---------------------------+\n",
      "|  Male|                        320|                   180|                        320|\n",
      "|  Male|                      42.84|                     0|                      42.84|\n",
      "|  Male|                      42.84|                     0|                      42.84|\n",
      "|  Male|                      42.59|                     0|                      42.59|\n",
      "|  Male|                      42.83|                     0|                      42.83|\n",
      "|  Male|                      31.58|                     0|                      31.58|\n",
      "|  Male|                        220|                 -5.88|                        220|\n",
      "|  Male|                     -60.53|                 -62.5|                     -60.53|\n",
      "|  Male|                      37.18|                     7|                      37.18|\n",
      "|  Male|                      287.5|                158.33|                      287.5|\n",
      "|  Male|                         60|                    10|                         60|\n",
      "|  Male|                         50|                  -2.5|                         50|\n",
      "|  Male|                     -27.31|                     0|                     -27.31|\n",
      "|  Male|                     165.36|                 76.91|                     165.36|\n",
      "|  Male|                         30|                     0|                         30|\n",
      "|  Male|                      42.86|                    65|                      42.86|\n",
      "|  Male|                     164.29|                -17.78|                     164.29|\n",
      "|  Male|                      42.78|                     0|                      42.78|\n",
      "|  Male|                      42.86|                     0|                      42.86|\n",
      "|  Male|                         25|                     0|                         25|\n",
      "+------+---------------------------+----------------------+---------------------------+\n"
     ]
    }
   ],
   "source": [
    "spark.sql(\"select gender,Percent_hike_offered_in_CTC,Percent_difference_CTC,Percent_hike_offered_in_CTC from f2 where Percent_hike_offered_in_CTC>='50' or gender='Male'\").show()"
   ],
   "metadata": {
    "collapsed": false,
    "ExecuteTime": {
     "end_time": "2023-09-22T11:04:08.267162548Z",
     "start_time": "2023-09-22T11:04:07.745626279Z"
    }
   },
   "id": "7a37e02b6ca413c7"
  },
  {
   "cell_type": "code",
   "execution_count": null,
   "outputs": [],
   "source": [],
   "metadata": {
    "collapsed": false
   },
   "id": "3c2ff7e8684364a2"
  },
  {
   "cell_type": "markdown",
   "source": [],
   "metadata": {
    "collapsed": false
   },
   "id": "9431e1edbce35673"
  },
  {
   "cell_type": "code",
   "execution_count": 59,
   "outputs": [
    {
     "name": "stdout",
     "output_type": "stream",
     "text": [
      "+------+---------------------------+----------------------+---------------------------+\n",
      "|gender|Percent_hike_offered_in_CTC|Percent_difference_CTC|Percent_hike_offered_in_CTC|\n",
      "+------+---------------------------+----------------------+---------------------------+\n",
      "|  Male|                         50|                  -2.5|                         50|\n",
      "|Female|                         50|                     0|                         50|\n",
      "|  Male|                         50|                 -12.5|                         50|\n",
      "|  Male|                         50|                  -2.5|                         50|\n",
      "|  Male|                         50|                     0|                         50|\n",
      "|  Male|                         50|                  5.88|                         50|\n",
      "|  Male|                         50|                  7.14|                         50|\n",
      "|  Male|                         50|                   -10|                         50|\n",
      "|Female|                         50|                   -10|                         50|\n",
      "|  Male|                      50.33|                     0|                      50.33|\n",
      "|Female|                         50|                     0|                         50|\n",
      "|  Male|                       50.2|                 10.57|                       50.2|\n",
      "|  Male|                         50|                     0|                         50|\n",
      "|  Male|                       50.8|                  4.72|                       50.8|\n",
      "|  Male|                         50|                 -8.33|                         50|\n",
      "|Female|                         50|                  7.14|                         50|\n",
      "|  Male|                         50|                   -10|                         50|\n",
      "|Female|                         50|                   -10|                         50|\n",
      "|  Male|                         50|                -12.73|                         50|\n",
      "|  Male|                         50|                    20|                         50|\n",
      "+------+---------------------------+----------------------+---------------------------+\n"
     ]
    }
   ],
   "source": [
    "spark.sql(\"select gender,Percent_hike_offered_in_CTC,Percent_difference_CTC,Percent_hike_offered_in_CTC from f2 where Percent_hike_offered_in_CTC=50\" ).show()"
   ],
   "metadata": {
    "collapsed": false,
    "ExecuteTime": {
     "end_time": "2023-09-22T11:35:41.654091171Z",
     "start_time": "2023-09-22T11:35:41.063742173Z"
    }
   },
   "id": "8f99686e9ea2aa0"
  },
  {
   "cell_type": "code",
   "execution_count": 50,
   "outputs": [
    {
     "name": "stdout",
     "output_type": "stream",
     "text": [
      "+------+---------------------------+----------------------+\n",
      "|gender|Percent_hike_offered_in_CTC|Percent_difference_CTC|\n",
      "+------+---------------------------+----------------------+\n",
      "|  Male|                      50.51|                 -1.67|\n",
      "|Female|                         50|                   -10|\n",
      "|Female|                         50|                   -10|\n",
      "|  Male|                         50|                   -10|\n",
      "|  Male|                         50|                   -10|\n",
      "|Female|                         50|                   -10|\n",
      "|Female|                         50|                   -10|\n",
      "|  Male|                         50|                   -10|\n",
      "|Female|                         50|                   -10|\n",
      "|  Male|                         50|                   -10|\n",
      "|  Male|                         50|                   -10|\n",
      "|Female|                         50|                   -10|\n",
      "|  Male|                         50|                   -10|\n",
      "|  Male|                         50|                   -10|\n",
      "|  Male|                         50|                   -10|\n",
      "|  Male|                         50|                   -10|\n",
      "|  Male|                         50|                   -10|\n",
      "|  Male|                         50|                   -10|\n",
      "|  Male|                         50|                   -10|\n",
      "|  Male|                         50|                   -10|\n",
      "+------+---------------------------+----------------------+\n"
     ]
    }
   ],
   "source": [
    "spark.sql(\"SELECT gender, Percent_hike_offered_in_CTC, Percent_difference_CTC FROM f2 WHERE Percent_hike_offered_in_CTC = 50 ORDER BY Percent_difference_CTC ASC\").show()"
   ],
   "metadata": {
    "collapsed": false,
    "ExecuteTime": {
     "end_time": "2023-09-22T11:04:28.011930139Z",
     "start_time": "2023-09-22T11:04:26.919185718Z"
    }
   },
   "id": "ad5775195eda21f2"
  },
  {
   "cell_type": "code",
   "execution_count": null,
   "outputs": [],
   "source": [
    "spark.sql(\"SELECT gender, Percent_hike_offered_in_CTC, Percent_difference_CTC, FROM f2 WHERE Percent_hike_offered_in_CTC = 50 ORDER BY Percent_hike_offered_in_CTC ASC\")"
   ],
   "metadata": {
    "collapsed": false,
    "is_executing": true,
    "ExecuteTime": {
     "start_time": "2023-09-22T11:36:17.023838232Z"
    }
   },
   "id": "3f85cfedf3af023"
  },
  {
   "cell_type": "code",
   "execution_count": 52,
   "outputs": [
    {
     "name": "stderr",
     "output_type": "stream",
     "text": [
      "[Stage 35:>                                                         (0 + 1) / 1]\r"
     ]
    },
    {
     "name": "stdout",
     "output_type": "stream",
     "text": [
      "+---------------------------+-------------------------------+\n",
      "|Percent_hike_offered_in_CTC|avg_Percent_hike_offered_in_CTC|\n",
      "+---------------------------+-------------------------------+\n",
      "|                     314.53|                         314.53|\n",
      "|                         -4|                           -4.0|\n",
      "|                      55.41|                          55.41|\n",
      "|                      17.42|                          17.42|\n",
      "|                      28.79|             28.789999999999996|\n",
      "|                      23.97|                          23.97|\n",
      "|                      42.87|                          42.87|\n",
      "|                      26.63|                          26.63|\n",
      "|                       47.5|                           47.5|\n",
      "|                     -18.27|                         -18.27|\n",
      "|                      84.21|                          84.21|\n",
      "|                      32.27|                          32.27|\n",
      "|                       38.3|             38.300000000000004|\n",
      "|                      49.25|                          49.25|\n",
      "|                      53.09|                          53.09|\n",
      "|                        125|                          125.0|\n",
      "|                      91.67|                          91.67|\n",
      "|                       34.4|                           34.4|\n",
      "|                      12.85|                          12.85|\n",
      "|                      26.25|                          26.25|\n",
      "+---------------------------+-------------------------------+\n"
     ]
    },
    {
     "name": "stderr",
     "output_type": "stream",
     "text": [
      "                                                                                \r"
     ]
    }
   ],
   "source": [
    "#Calculate the average age for 'Male' and 'Female' separately\n",
    "spark.sql(\"SELECT Percent_hike_offered_in_CTC, AVG(Percent_hike_offered_in_CTC) as avg_Percent_hike_offered_in_CTC FROM f2 GROUP BY Percent_hike_offered_in_CTC\").show()"
   ],
   "metadata": {
    "collapsed": false,
    "ExecuteTime": {
     "end_time": "2023-09-22T11:04:55.665818688Z",
     "start_time": "2023-09-22T11:04:54.197822103Z"
    }
   },
   "id": "ad0392fc05204132"
  },
  {
   "cell_type": "code",
   "execution_count": null,
   "outputs": [],
   "source": [],
   "metadata": {
    "collapsed": false
   },
   "id": "d19fd1c8771c48f5"
  },
  {
   "cell_type": "code",
   "execution_count": 53,
   "outputs": [
    {
     "name": "stdout",
     "output_type": "stream",
     "text": [
      "+----+-------------+------------+------------------------+-------------+------------+----------------------------+---------------------------+----------------------+-------------+-------------------------+------+-----------------+----------+-----------+-----------+---+------+-----------+\n",
      "| Sno|Candidate_Ref|DOJ_Extended|Duration_to_accept_offer|Notice_Period|Offered_Band|ected_in_CTCPercent_hike_exp|Percent_hike_offered_in_CTC|Percent_difference_CTC|Joining_Bonus|Candidate_relocate_actual|Gender| Candidate_Source|Rex_in_Yrs|Location_ID|Postal_Code|Age|LOB_Id|Domicile_Id|\n",
      "+----+-------------+------------+------------------------+-------------+------------+----------------------------+---------------------------+----------------------+-------------+-------------------------+------+-----------------+----------+-----------+-----------+---+------+-----------+\n",
      "|5946|      2635174|         Yes|                     110|           60|          E2|                       33.33|                     116.67|                  62.5|           No|                       No|  Male|           Agency|         7|       L001|     201301| 60|     1|         D4|\n",
      "|7516|      3211288|          No|                       7|           90|          E3|                       40.03|                       31.8|                 -5.88|           No|                       No|  Male|Employee Referral|        20|       L002|     600020| 51|     1|         D8|\n",
      "| 149|      2464782|          No|                      10|           30|          E3|                         -25|                     -20.39|                  6.14|           No|                       No|  Male|           Agency|        13|       L002|     600020| 50|     2|        D14|\n",
      "|4566|      2469131|         Yes|                      96|           60|          E3|                       20.45|                       12.5|                  -6.6|          Yes|                       No|  Male|           Direct|        20|       L004|     560034| 50|     7|         D2|\n",
      "|5696|      2604373|         Yes|                      29|           30|          E2|                       13.33|                          0|                -11.76|           No|                       No|  Male|           Agency|         9|       L002|     600020| 50|     8|        D17|\n",
      "|5923|      2618623|         Yes|                      43|           60|          E3|                       37.93|                      37.93|                     0|           No|                       No|  Male|Employee Referral|        10|       L002|     600020| 50|     8|        D19|\n",
      "|2575|      2322707|         Yes|                       6|           30|          E3|                           0|                          0|                     0|           No|                       No|  Male|           Direct|        13|       L004|     560034| 49|     7|        D11|\n",
      "|5462|      2587182|         Yes|                       5|           30|          E2|                       14.29|                      28.57|                  12.5|           No|                       No|  Male|Employee Referral|         7|       L006|     700027| 49|     5|        D18|\n",
      "|5807|      2611866|         Yes|                     113|           60|          E2|                       34.96|                      34.96|                     0|           No|                       No|  Male|           Direct|         8|       L002|     600020| 49|     8|         D5|\n",
      "|5195|      2561321|          No|                       3|           90|          E3|                          40|                         40|                     0|           No|                       No|  Male|           Direct|         6|       L001|     201301| 48|     2|        D12|\n",
      "|5277|      2566069|          No|                      32|           60|          E2|                       57.14|                      57.14|                     0|           No|                       No|  Male|Employee Referral|         8|       L002|     600020| 48|     5|        D17|\n",
      "|7584|      3218118|          No|                      24|           60|          E3|                       42.86|                      42.86|                     0|           No|                       No|  Male|           Agency|        13|       L002|     600020| 48|     2|        D11|\n",
      "|3688|      2399968|         Yes|                       1|           30|          E2|                       22.22|                      16.67|                 -4.55|           No|                       No|  Male|           Direct|         5|       L004|     560034| 47|     7|        D11|\n",
      "|5470|      2588084|         Yes|                      35|           90|          E3|                       49.05|                      49.05|                     0|           No|                       No|Female|Employee Referral|         8|       L001|     201301| 47|     2|        D23|\n",
      "|1042|      2193699|         Yes|                      24|           30|          E1|                          30|                      -7.14|                -28.57|           No|                       No|  Male|           Agency|         5|       L004|     560034| 46|     4|        D24|\n",
      "|2032|      2282496|          No|                       0|            0|          E2|                       36.36|                      21.21|                -11.11|           No|                      Yes|  Male|           Direct|         5|       L006|     700027| 46|     7|        D22|\n",
      "|3420|      2375502|         Yes|                      11|           30|          E1|                        6.67|                          0|                 -6.25|           No|                       No|  Male|           Direct|         9|       L004|     560034| 46|     6|        D22|\n",
      "| 899|      2179353|          No|                       2|            0|          E3|                       31.58|                      31.58|                     0|           No|                      Yes|  Male|Employee Referral|        11|       L004|     560034| 45|     2|        D16|\n",
      "| 737|      2157115|          No|                       4|            0|          E3|                        9.38|                       9.38|                     0|           No|                       No|  Male|           Direct|        10|       L004|     560034| 45|     2|         D8|\n",
      "|2733|      2344479|         Yes|                      56|           30|          E2|                       15.79|                      15.79|                     0|           No|                       No|  Male|           Direct|         8|       L004|     560034| 45|     8|        D18|\n",
      "+----+-------------+------------+------------------------+-------------+------------+----------------------------+---------------------------+----------------------+-------------+-------------------------+------+-----------------+----------+-----------+-----------+---+------+-----------+\n"
     ]
    }
   ],
   "source": [
    "spark.sql(\"SELECT * FROM f2 ORDER BY age DESC\").show()\n"
   ],
   "metadata": {
    "collapsed": false,
    "ExecuteTime": {
     "end_time": "2023-09-22T11:27:27.478679314Z",
     "start_time": "2023-09-22T11:27:26.847230420Z"
    }
   },
   "id": "7e6354afd470637c"
  },
  {
   "cell_type": "code",
   "execution_count": 58,
   "outputs": [
    {
     "name": "stdout",
     "output_type": "stream",
     "text": [
      "+---+-------------+------------+------------------------+-------------+------------+----------------------------+---------------------------+----------------------+-------------+-------------------------+------+-----------------+----------+-----------+-----------+---+------+-----------+\n",
      "|Sno|Candidate_Ref|DOJ_Extended|Duration_to_accept_offer|Notice_Period|Offered_Band|ected_in_CTCPercent_hike_exp|Percent_hike_offered_in_CTC|Percent_difference_CTC|Joining_Bonus|Candidate_relocate_actual|Gender| Candidate_Source|Rex_in_Yrs|Location_ID|Postal_Code|Age|LOB_Id|Domicile_Id|\n",
      "+---+-------------+------------+------------------------+-------------+------------+----------------------------+---------------------------+----------------------+-------------+-------------------------+------+-----------------+----------+-----------+-----------+---+------+-----------+\n",
      "|  2|      2112635|          No|                      18|           30|          E2|                          50|                        320|                   180|           No|                       No|  Male|Employee Referral|         8|       L002|     600020| 34|     2|         D9|\n",
      "| 12|      2143362|          No|                       6|           30|          E1|                         240|                        220|                 -5.88|           No|                       No|  Male|Employee Referral|         3|       L002|     600020| 34|     5|        D23|\n",
      "| 20|      2172982|          No|                       1|            0|          E2|                          30|                         30|                     0|           No|                       No|  Male|           Direct|         6|       L001|     201301| 34|     2|        D13|\n",
      "| 21|      2173730|          No|                       1|           30|          E1|                      -13.42|                      42.86|                    65|           No|                       No|  Male|           Direct|         1|       L003|     122107| 34|     2|         D7|\n",
      "| 22|      2175237|          No|                       7|           30|          E1|                      221.43|                     164.29|                -17.78|           No|                       No|  Male|           Direct|         2|       L001|     201301| 34|     1|        D21|\n",
      "| 23|      2175323|          No|                       1|            0|          E3|                       42.78|                      42.78|                     0|           No|                      Yes|  Male|Employee Referral|         8|       L002|     600020| 29|     2|         D6|\n",
      "| 24|      2184108|          No|                       0|           30|          E1|                        37.5|                       37.5|                     0|           No|                       No|Female|Employee Referral|         3|       L002|     600020| 30|     1|        D19|\n",
      "| 25|      2188014|          No|                       1|            0|          E2|                       42.86|                      42.86|                     0|           No|                       No|  Male|           Direct|         5|       L001|     201301| 30|     2|        D11|\n",
      "| 26|      2191237|         Yes|                      83|           60|          E2|                          25|                         25|                     0|           No|                       No|  Male|           Direct|         5|       L001|     201301| 30|     7|        D24|\n",
      "| 27|      2194323|          No|                       1|            0|          E3|                      114.82|                      42.86|                 -33.5|           No|                       No|  Male|           Direct|         6|       L001|     201301| 31|     2|        D16|\n",
      "| 28|      2205244|          No|                      16|           60|          E1|                       41.18|                          0|                -29.17|           No|                       No|  Male|           Direct|         7|       L001|     201301| 31|     7|         D5|\n",
      "| 29|      2205496|         Yes|                      32|          120|          E3|                       50.97|                         57|                     4|           No|                       No|  Male|           Direct|        13|       L002|     600020| 40|     1|         D9|\n",
      "| 32|      2214217|          No|                       4|           30|          E2|                       -2.17|                      -2.17|                     0|           No|                       No|Female|Employee Referral|         5|       L002|     600020| 33|     1|        D24|\n",
      "| 52|      2237899|         Yes|                       4|            0|          E2|                       42.86|                      42.86|                     0|           No|                       No|Female|Employee Referral|        10|       L001|     201301| 34|     2|        D19|\n",
      "| 62|      2282703|          No|                       4|           30|          E1|                      233.33|                        150|                   -25|           No|                       No|Female|           Direct|         1|       L002|     600020| 25|     1|         D3|\n",
      "| 72|      2287314|         Yes|                      68|           60|          E1|                       47.73|                      42.05|                 -3.85|           No|                       No|  Male|           Direct|         3|       L002|     600020| 26|     1|        D12|\n",
      "| 92|      2352237|          No|                       0|            0|          E1|                       11.11|                     -16.67|                   -25|           No|                       No|Female|           Direct|         1|       L001|     201301| 24|     2|         D5|\n",
      "|102|      2365129|          No|                       4|           30|        null|                       42.86|                      42.86|                     0|           No|                       No|  Male|           Direct|         2|       L007|     682001| 24|     2|        D12|\n",
      "|112|      2378097|         Yes|                      34|           30|          E1|                          75|                         75|                     0|           No|                       No|  Male|           Direct|         2|       L002|     600020| 25|     1|        D24|\n",
      "|120|      2407721|         Yes|                       6|           30|          E1|                        12.5|                     -53.75|                -58.89|           No|                       No|  Male|           Agency|         1|       L002|     600020| 27|     1|         D6|\n",
      "+---+-------------+------------+------------------------+-------------+------------+----------------------------+---------------------------+----------------------+-------------+-------------------------+------+-----------------+----------+-----------+-----------+---+------+-----------+\n"
     ]
    }
   ],
   "source": [
    "spark.sql(\"SELECT * FROM f2 WHERE Sno LIKE '%2%'\").show()\n"
   ],
   "metadata": {
    "collapsed": false,
    "ExecuteTime": {
     "end_time": "2023-09-22T11:34:39.622993775Z",
     "start_time": "2023-09-22T11:34:39.011822850Z"
    }
   },
   "id": "ac3980a26ab3f2eb"
  },
  {
   "cell_type": "code",
   "execution_count": null,
   "outputs": [],
   "source": [],
   "metadata": {
    "collapsed": false
   },
   "id": "d86bbcdadf56e7cb"
  }
 ],
 "metadata": {
  "kernelspec": {
   "display_name": "Python 3",
   "language": "python",
   "name": "python3"
  },
  "language_info": {
   "codemirror_mode": {
    "name": "ipython",
    "version": 2
   },
   "file_extension": ".py",
   "mimetype": "text/x-python",
   "name": "python",
   "nbconvert_exporter": "python",
   "pygments_lexer": "ipython2",
   "version": "2.7.6"
  }
 },
 "nbformat": 4,
 "nbformat_minor": 5
}
